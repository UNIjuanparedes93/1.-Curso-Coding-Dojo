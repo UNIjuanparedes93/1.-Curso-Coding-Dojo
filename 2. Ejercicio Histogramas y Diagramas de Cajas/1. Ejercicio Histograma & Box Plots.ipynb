{
 "cells": [
  {
   "cell_type": "markdown",
   "metadata": {},
   "source": [
    "# Tarea\n",
    "Responde y completa lo siguiente:\n",
    "1. Traza un histograma del porcentaje de poseedores de perros.\n",
    "2. Traza un histograma del porcentaje de poseedores de gatos.\n",
    "3. ¿Qué podemos ver al comparar estos dos histogramas? ¿Qué información nos da?\n",
    "4. Opcional/Extra: traza estos dos histogramas en el mismo plot. A continuación, un ejemplo de cómo debería lucir:"
   ]
  },
  {
   "cell_type": "markdown",
   "metadata": {},
   "source": [
    "## Histogramas"
   ]
  },
  {
   "cell_type": "code",
   "execution_count": 78,
   "metadata": {},
   "outputs": [
    {
     "data": {
      "text/html": [
       "<div>\n",
       "<style scoped>\n",
       "    .dataframe tbody tr th:only-of-type {\n",
       "        vertical-align: middle;\n",
       "    }\n",
       "\n",
       "    .dataframe tbody tr th {\n",
       "        vertical-align: top;\n",
       "    }\n",
       "\n",
       "    .dataframe thead th {\n",
       "        text-align: right;\n",
       "    }\n",
       "</style>\n",
       "<table border=\"1\" class=\"dataframe\">\n",
       "  <thead>\n",
       "    <tr style=\"text-align: right;\">\n",
       "      <th></th>\n",
       "      <th>Location</th>\n",
       "      <th>Number of Households (in 1000)</th>\n",
       "      <th>Percentage of households with pets</th>\n",
       "      <th>Number of Pet Households (in 1000)</th>\n",
       "      <th>Percentage of Dog Owners</th>\n",
       "      <th>Dog Owning Households (1000s)</th>\n",
       "      <th>Mean Number of Dogs per household</th>\n",
       "      <th>Dog Population (in 1000)</th>\n",
       "      <th>Percentage of Cat Owners</th>\n",
       "      <th>Cat Owning Households</th>\n",
       "      <th>Mean Number of Cats</th>\n",
       "      <th>Cat Population</th>\n",
       "    </tr>\n",
       "  </thead>\n",
       "  <tbody>\n",
       "    <tr>\n",
       "      <th>0</th>\n",
       "      <td>Alabama</td>\n",
       "      <td>1828</td>\n",
       "      <td>59.5</td>\n",
       "      <td>1088</td>\n",
       "      <td>44.1</td>\n",
       "      <td>807</td>\n",
       "      <td>1.7</td>\n",
       "      <td>1410</td>\n",
       "      <td>27.4</td>\n",
       "      <td>501</td>\n",
       "      <td>2.5</td>\n",
       "      <td>1252</td>\n",
       "    </tr>\n",
       "    <tr>\n",
       "      <th>1</th>\n",
       "      <td>Arizona</td>\n",
       "      <td>2515</td>\n",
       "      <td>59.5</td>\n",
       "      <td>1497</td>\n",
       "      <td>40.1</td>\n",
       "      <td>1008</td>\n",
       "      <td>1.8</td>\n",
       "      <td>1798</td>\n",
       "      <td>29.6</td>\n",
       "      <td>743</td>\n",
       "      <td>1.9</td>\n",
       "      <td>1438</td>\n",
       "    </tr>\n",
       "    <tr>\n",
       "      <th>2</th>\n",
       "      <td>Arkansas</td>\n",
       "      <td>1148</td>\n",
       "      <td>62.4</td>\n",
       "      <td>716</td>\n",
       "      <td>47.9</td>\n",
       "      <td>550</td>\n",
       "      <td>2.0</td>\n",
       "      <td>1097</td>\n",
       "      <td>30.6</td>\n",
       "      <td>351</td>\n",
       "      <td>2.3</td>\n",
       "      <td>810</td>\n",
       "    </tr>\n",
       "    <tr>\n",
       "      <th>3</th>\n",
       "      <td>California</td>\n",
       "      <td>12974</td>\n",
       "      <td>52.9</td>\n",
       "      <td>6865</td>\n",
       "      <td>32.8</td>\n",
       "      <td>4260</td>\n",
       "      <td>1.6</td>\n",
       "      <td>6687</td>\n",
       "      <td>28.3</td>\n",
       "      <td>3687</td>\n",
       "      <td>1.9</td>\n",
       "      <td>7118</td>\n",
       "    </tr>\n",
       "    <tr>\n",
       "      <th>4</th>\n",
       "      <td>Colorado</td>\n",
       "      <td>1986</td>\n",
       "      <td>61.3</td>\n",
       "      <td>1217</td>\n",
       "      <td>42.5</td>\n",
       "      <td>845</td>\n",
       "      <td>1.6</td>\n",
       "      <td>1349</td>\n",
       "      <td>32.3</td>\n",
       "      <td>642</td>\n",
       "      <td>1.9</td>\n",
       "      <td>1191</td>\n",
       "    </tr>\n",
       "  </tbody>\n",
       "</table>\n",
       "</div>"
      ],
      "text/plain": [
       "     Location  Number of Households (in 1000)  \\\n",
       "0     Alabama                            1828   \n",
       "1     Arizona                            2515   \n",
       "2    Arkansas                            1148   \n",
       "3  California                           12974   \n",
       "4    Colorado                            1986   \n",
       "\n",
       "   Percentage of households with pets  Number of Pet Households (in 1000)  \\\n",
       "0                                59.5                                1088   \n",
       "1                                59.5                                1497   \n",
       "2                                62.4                                 716   \n",
       "3                                52.9                                6865   \n",
       "4                                61.3                                1217   \n",
       "\n",
       "   Percentage of Dog Owners  Dog Owning Households (1000s)  \\\n",
       "0                      44.1                            807   \n",
       "1                      40.1                           1008   \n",
       "2                      47.9                            550   \n",
       "3                      32.8                           4260   \n",
       "4                      42.5                            845   \n",
       "\n",
       "   Mean Number of Dogs per household  Dog Population (in 1000)  \\\n",
       "0                                1.7                      1410   \n",
       "1                                1.8                      1798   \n",
       "2                                2.0                      1097   \n",
       "3                                1.6                      6687   \n",
       "4                                1.6                      1349   \n",
       "\n",
       "   Percentage of Cat Owners  Cat Owning Households  Mean Number of Cats  \\\n",
       "0                      27.4                    501                  2.5   \n",
       "1                      29.6                    743                  1.9   \n",
       "2                      30.6                    351                  2.3   \n",
       "3                      28.3                   3687                  1.9   \n",
       "4                      32.3                    642                  1.9   \n",
       "\n",
       "   Cat Population  \n",
       "0            1252  \n",
       "1            1438  \n",
       "2             810  \n",
       "3            7118  \n",
       "4            1191  "
      ]
     },
     "execution_count": 78,
     "metadata": {},
     "output_type": "execute_result"
    }
   ],
   "source": [
    "import pandas as pd\n",
    "import numpy as np\n",
    "import matplotlib.pyplot as plt\n",
    "import seaborn as sns\n",
    "\n",
    "file = r'catsvdogs.xlsx'\n",
    "df = pd.read_excel(file)\n",
    "df.head()"
   ]
  },
  {
   "cell_type": "markdown",
   "metadata": {},
   "source": [
    "### Revision Datframe Completo con Histograma"
   ]
  },
  {
   "cell_type": "code",
   "execution_count": 79,
   "metadata": {},
   "outputs": [
    {
     "data": {
      "text/plain": [
       "array([[<AxesSubplot:title={'center':'Number of Households (in 1000)'}>,\n",
       "        <AxesSubplot:title={'center':'Percentage of households with pets'}>,\n",
       "        <AxesSubplot:title={'center':'Number of Pet Households (in 1000)'}>],\n",
       "       [<AxesSubplot:title={'center':'Percentage of Dog Owners'}>,\n",
       "        <AxesSubplot:title={'center':'Dog Owning Households (1000s)'}>,\n",
       "        <AxesSubplot:title={'center':'Mean Number of Dogs per household'}>],\n",
       "       [<AxesSubplot:title={'center':'Dog Population (in 1000)'}>,\n",
       "        <AxesSubplot:title={'center':'Percentage of Cat Owners'}>,\n",
       "        <AxesSubplot:title={'center':'Cat Owning Households'}>],\n",
       "       [<AxesSubplot:title={'center':'Mean Number of Cats'}>,\n",
       "        <AxesSubplot:title={'center':'Cat Population'}>, <AxesSubplot:>]],\n",
       "      dtype=object)"
      ]
     },
     "execution_count": 79,
     "metadata": {},
     "output_type": "execute_result"
    },
    {
     "data": {
      "image/png": "[encoded data removed]",
      "text/plain": [
       "<Figure size 720x720 with 12 Axes>"
      ]
     },
     "metadata": {
      "needs_background": "light"
     },
     "output_type": "display_data"
    }
   ],
   "source": [
    "df.hist(figsize=[10,10])"
   ]
  },
  {
   "cell_type": "markdown",
   "metadata": {},
   "source": [
    "### 1.Poseedores de Perros"
   ]
  },
  {
   "cell_type": "code",
   "execution_count": 80,
   "metadata": {},
   "outputs": [
    {
     "data": {
      "text/plain": [
       "Text(0, 0.5, 'Frecuencia')"
      ]
     },
     "execution_count": 80,
     "metadata": {},
     "output_type": "execute_result"
    },
    {
     "data": {
      "image/png": "[encoded data removed]",
      "text/plain": [
       "<Figure size 720x360 with 1 Axes>"
      ]
     },
     "metadata": {
      "needs_background": "light"
     },
     "output_type": "display_data"
    }
   ],
   "source": [
    "fig, ax = plt.subplots()\n",
    "df['Percentage of Dog Owners'].hist(figsize=[10,5],color = \"skyblue\",histtype='stepfilled')\n",
    "plt.title('Histograma de - Percentage of Dog Owners')\n",
    "ax.set_xlabel('% of Dog Owners')\n",
    "ax.set_ylabel('Frecuencia')\n"
   ]
  },
  {
   "cell_type": "markdown",
   "metadata": {},
   "source": [
    "### 2.Poseedores de Gatos"
   ]
  },
  {
   "cell_type": "code",
   "execution_count": 81,
   "metadata": {},
   "outputs": [
    {
     "data": {
      "text/plain": [
       "Text(0, 0.5, 'Frecuencia')"
      ]
     },
     "execution_count": 81,
     "metadata": {},
     "output_type": "execute_result"
    },
    {
     "data": {
      "image/png": "[encoded data removed]",
      "text/plain": [
       "<Figure size 720x360 with 1 Axes>"
      ]
     },
     "metadata": {
      "needs_background": "light"
     },
     "output_type": "display_data"
    }
   ],
   "source": [
    "fig, ax = plt.subplots()\n",
    "df['Percentage of Cat Owners'].hist(figsize=[10,5],color = \"red\",histtype='stepfilled')\n",
    "plt.title('Histograma de - Percentage of Cat Owners')\n",
    "ax.set_xlabel('% of Cat Owners')\n",
    "ax.set_ylabel('Frecuencia')"
   ]
  },
  {
   "cell_type": "markdown",
   "metadata": {},
   "source": [
    "### 3.Graficamos Ambas Variables"
   ]
  },
  {
   "cell_type": "code",
   "execution_count": 82,
   "metadata": {},
   "outputs": [
    {
     "data": {
      "text/plain": [
       "Text(0, 0.5, 'Frecuencia')"
      ]
     },
     "execution_count": 82,
     "metadata": {},
     "output_type": "execute_result"
    },
    {
     "data": {
      "image/png": "[encoded data removed]",
      "text/plain": [
       "<Figure size 720x360 with 1 Axes>"
      ]
     },
     "metadata": {
      "needs_background": "light"
     },
     "output_type": "display_data"
    }
   ],
   "source": [
    "df[['Percentage of Cat Owners','Percentage of Dog Owners']].plot(kind='hist',\n",
    "        alpha=0.7,\n",
    "        # bins=30,\n",
    "        title='Histogram Of Test Scores',\n",
    "        # rot=45,\n",
    "        grid=True,\n",
    "        figsize=(10,5),\n",
    "        fontsize=8, \n",
    "        color=['red', 'skyblue'])\n",
    "plt.xlabel('% of Cat & Dog Owners')\n",
    "plt.ylabel(\"Frecuencia\")"
   ]
  },
  {
   "cell_type": "markdown",
   "metadata": {},
   "source": [
    "### 3.Conclusiones\n"
   ]
  },
  {
   "cell_type": "code",
   "execution_count": 83,
   "metadata": {},
   "outputs": [
    {
     "name": "stdout",
     "output_type": "stream",
     "text": [
      "4.799999999999997\n",
      "31.3\n",
      "31.642857142857142\n",
      "9.600000000000001\n",
      "36.6\n",
      "36.9734693877551\n"
     ]
    }
   ],
   "source": [
    "# calcular el rango intercuartílico  de gatos.\n",
    "q3_cat, q1_cat = np.percentile(df['Percentage of Cat Owners'], [75, 25])\n",
    "iqr_cat = q3_cat - q1_cat\n",
    "print(iqr_cat)\n",
    "\n",
    "mediana_cat = df['Percentage of Cat Owners'].median()\n",
    "print(mediana_cat)\n",
    "\n",
    "mean_cat = df['Percentage of Cat Owners'].mean()\n",
    "print(mean_cat)\n",
    "\n",
    "\n",
    "# Calculamos el rango intercuartílico de perros.\n",
    "q3_dog, q1_dog = np.percentile(df['Percentage of Dog Owners'], [75, 25])\n",
    "iqr_dog = q3_dog - q1_dog\n",
    "print(iqr_dog)\n",
    "\n",
    "mediana_dog = df['Percentage of Dog Owners'].median()\n",
    "print(mediana_dog)\n",
    "\n",
    "\n",
    "mean_dog = df['Percentage of Dog Owners'].mean()\n",
    "print(mean_dog)"
   ]
  },
  {
   "cell_type": "markdown",
   "metadata": {},
   "source": [
    "#### Conclusiones:\n",
    "---\n",
    "\n",
    "1. Vemos como la distribucion de perros es mas grande que la de catos, sin embargo gatos tiene datos outliers en ambos sentidos, en cambio perros solo tiene outliers al lado izquierdo de la distribucion.\n",
    "2. lo anterior se refuerza si miramos los rangos intercuartílicos de cada distribucion, siendo de le gatos perros mayor con un valor de 9.6% y para gatos de 4.8%."
   ]
  },
  {
   "cell_type": "markdown",
   "metadata": {},
   "source": [
    "## Box Plots\n",
    "---\n",
    "4. Crea dos diagramas de caja en el mismo plot: uno con el número medio de gatos por hogar y el otro, del número medio de perros. Más abajo, un ejemplo de cómo podría lucir.\n",
    "5. ¿Qué podemos ver al comparar estos dos diagramas de caja? ¿Qué información nos da?"
   ]
  },
  {
   "cell_type": "code",
   "execution_count": 84,
   "metadata": {},
   "outputs": [
    {
     "data": {
      "text/html": [
       "<div>\n",
       "<style scoped>\n",
       "    .dataframe tbody tr th:only-of-type {\n",
       "        vertical-align: middle;\n",
       "    }\n",
       "\n",
       "    .dataframe tbody tr th {\n",
       "        vertical-align: top;\n",
       "    }\n",
       "\n",
       "    .dataframe thead th {\n",
       "        text-align: right;\n",
       "    }\n",
       "</style>\n",
       "<table border=\"1\" class=\"dataframe\">\n",
       "  <thead>\n",
       "    <tr style=\"text-align: right;\">\n",
       "      <th></th>\n",
       "      <th>Location</th>\n",
       "      <th>Number of Households (in 1000)</th>\n",
       "      <th>Percentage of households with pets</th>\n",
       "      <th>Number of Pet Households (in 1000)</th>\n",
       "      <th>Percentage of Dog Owners</th>\n",
       "      <th>Dog Owning Households (1000s)</th>\n",
       "      <th>Mean Number of Dogs per household</th>\n",
       "      <th>Dog Population (in 1000)</th>\n",
       "      <th>Percentage of Cat Owners</th>\n",
       "      <th>Cat Owning Households</th>\n",
       "      <th>Mean Number of Cats</th>\n",
       "      <th>Cat Population</th>\n",
       "    </tr>\n",
       "  </thead>\n",
       "  <tbody>\n",
       "    <tr>\n",
       "      <th>0</th>\n",
       "      <td>Alabama</td>\n",
       "      <td>1828</td>\n",
       "      <td>59.5</td>\n",
       "      <td>1088</td>\n",
       "      <td>44.1</td>\n",
       "      <td>807</td>\n",
       "      <td>1.7</td>\n",
       "      <td>1410</td>\n",
       "      <td>27.4</td>\n",
       "      <td>501</td>\n",
       "      <td>2.5</td>\n",
       "      <td>1252</td>\n",
       "    </tr>\n",
       "    <tr>\n",
       "      <th>1</th>\n",
       "      <td>Arizona</td>\n",
       "      <td>2515</td>\n",
       "      <td>59.5</td>\n",
       "      <td>1497</td>\n",
       "      <td>40.1</td>\n",
       "      <td>1008</td>\n",
       "      <td>1.8</td>\n",
       "      <td>1798</td>\n",
       "      <td>29.6</td>\n",
       "      <td>743</td>\n",
       "      <td>1.9</td>\n",
       "      <td>1438</td>\n",
       "    </tr>\n",
       "    <tr>\n",
       "      <th>2</th>\n",
       "      <td>Arkansas</td>\n",
       "      <td>1148</td>\n",
       "      <td>62.4</td>\n",
       "      <td>716</td>\n",
       "      <td>47.9</td>\n",
       "      <td>550</td>\n",
       "      <td>2.0</td>\n",
       "      <td>1097</td>\n",
       "      <td>30.6</td>\n",
       "      <td>351</td>\n",
       "      <td>2.3</td>\n",
       "      <td>810</td>\n",
       "    </tr>\n",
       "    <tr>\n",
       "      <th>3</th>\n",
       "      <td>California</td>\n",
       "      <td>12974</td>\n",
       "      <td>52.9</td>\n",
       "      <td>6865</td>\n",
       "      <td>32.8</td>\n",
       "      <td>4260</td>\n",
       "      <td>1.6</td>\n",
       "      <td>6687</td>\n",
       "      <td>28.3</td>\n",
       "      <td>3687</td>\n",
       "      <td>1.9</td>\n",
       "      <td>7118</td>\n",
       "    </tr>\n",
       "    <tr>\n",
       "      <th>4</th>\n",
       "      <td>Colorado</td>\n",
       "      <td>1986</td>\n",
       "      <td>61.3</td>\n",
       "      <td>1217</td>\n",
       "      <td>42.5</td>\n",
       "      <td>845</td>\n",
       "      <td>1.6</td>\n",
       "      <td>1349</td>\n",
       "      <td>32.3</td>\n",
       "      <td>642</td>\n",
       "      <td>1.9</td>\n",
       "      <td>1191</td>\n",
       "    </tr>\n",
       "  </tbody>\n",
       "</table>\n",
       "</div>"
      ],
      "text/plain": [
       "     Location  Number of Households (in 1000)  \\\n",
       "0     Alabama                            1828   \n",
       "1     Arizona                            2515   \n",
       "2    Arkansas                            1148   \n",
       "3  California                           12974   \n",
       "4    Colorado                            1986   \n",
       "\n",
       "   Percentage of households with pets  Number of Pet Households (in 1000)  \\\n",
       "0                                59.5                                1088   \n",
       "1                                59.5                                1497   \n",
       "2                                62.4                                 716   \n",
       "3                                52.9                                6865   \n",
       "4                                61.3                                1217   \n",
       "\n",
       "   Percentage of Dog Owners  Dog Owning Households (1000s)  \\\n",
       "0                      44.1                            807   \n",
       "1                      40.1                           1008   \n",
       "2                      47.9                            550   \n",
       "3                      32.8                           4260   \n",
       "4                      42.5                            845   \n",
       "\n",
       "   Mean Number of Dogs per household  Dog Population (in 1000)  \\\n",
       "0                                1.7                      1410   \n",
       "1                                1.8                      1798   \n",
       "2                                2.0                      1097   \n",
       "3                                1.6                      6687   \n",
       "4                                1.6                      1349   \n",
       "\n",
       "   Percentage of Cat Owners  Cat Owning Households  Mean Number of Cats  \\\n",
       "0                      27.4                    501                  2.5   \n",
       "1                      29.6                    743                  1.9   \n",
       "2                      30.6                    351                  2.3   \n",
       "3                      28.3                   3687                  1.9   \n",
       "4                      32.3                    642                  1.9   \n",
       "\n",
       "   Cat Population  \n",
       "0            1252  \n",
       "1            1438  \n",
       "2             810  \n",
       "3            7118  \n",
       "4            1191  "
      ]
     },
     "execution_count": 84,
     "metadata": {},
     "output_type": "execute_result"
    }
   ],
   "source": [
    "df.head()"
   ]
  },
  {
   "cell_type": "code",
   "execution_count": 85,
   "metadata": {},
   "outputs": [
    {
     "data": {
      "image/png": "[encoded data removed]",
      "text/plain": [
       "<Figure size 720x504 with 1 Axes>"
      ]
     },
     "metadata": {
      "needs_background": "light"
     },
     "output_type": "display_data"
    }
   ],
   "source": [
    "data_1 = df['Mean Number of Dogs per household']\n",
    "data_2 = df['Mean Number of Cats']\n",
    "\n",
    "\n",
    "data = [data_1, data_2]\n",
    " \n",
    "fig = plt.figure(figsize =(10, 7))\n",
    " \n",
    "# Creating axes instance\n",
    "ax = fig.add_axes([0, 0, 1, 1])\n",
    " \n",
    "# Creating plot\n",
    "bp = ax.boxplot(data)\n",
    "\n",
    "# Titulos\n",
    "plt.title('Box Plot - Numero Gatos y Perros promedio por hogar')\n",
    "ax.set_xlabel('Tipo Mascota')\n",
    "ax.set_ylabel('Distribucion')\n",
    "\n",
    "\n",
    "# x-axis labels\n",
    "ax.set_xticklabels(['Perros', 'Gatos'])\n",
    "\n",
    "# show plot\n",
    "plt.show()"
   ]
  },
  {
   "cell_type": "markdown",
   "metadata": {},
   "source": [
    "Conclusion:\n",
    "1. En promedio, el % de dueños de perros es mayor a la de gatos, 37% vs 32%, pasa lo mismo con la mediana, donde la mediana de perros es de 36.6 % y la de gatos de 31.3 %.\n"
   ]
  }
 ],
 "metadata": {
  "kernelspec": {
   "display_name": "Python 3.9.12 64-bit",
   "language": "python",
   "name": "python3"
  },
  "language_info": {
   "codemirror_mode": {
    "name": "ipython",
    "version": 3
   },
   "file_extension": ".py",
   "mimetype": "text/x-python",
   "name": "python",
   "nbconvert_exporter": "python",
   "pygments_lexer": "ipython3",
   "version": "3.9.12"
  },
  "orig_nbformat": 4,
  "vscode": {
   "interpreter": {
    "hash": "c22d57933b3c4acc04110f239f1d62a3d6b47f12c8a0d3e4ec2a73cef515b291"
   }
  }
 },
 "nbformat": 4,
 "nbformat_minor": 2
}
