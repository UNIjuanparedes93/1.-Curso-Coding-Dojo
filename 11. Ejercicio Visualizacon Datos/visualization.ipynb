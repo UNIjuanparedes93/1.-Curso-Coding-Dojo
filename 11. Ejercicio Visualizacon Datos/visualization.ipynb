{
 "cells": [
  {
   "cell_type": "markdown",
   "metadata": {},
   "source": [
    "# Tarea Ejercicio Visualizacion Datos"
   ]
  },
  {
   "cell_type": "markdown",
   "metadata": {},
   "source": [
    "## 1. Importamos Librerias y DataFrame"
   ]
  },
  {
   "cell_type": "code",
   "execution_count": 11,
   "metadata": {},
   "outputs": [],
   "source": [
    "import pandas as pd\n",
    "import numpy as np\n",
    "import seaborn as sns\n",
    "import matplotlib.pyplot as plt"
   ]
  },
  {
   "cell_type": "code",
   "execution_count": 12,
   "metadata": {},
   "outputs": [
    {
     "data": {
      "text/html": [
       "<div>\n",
       "<style scoped>\n",
       "    .dataframe tbody tr th:only-of-type {\n",
       "        vertical-align: middle;\n",
       "    }\n",
       "\n",
       "    .dataframe tbody tr th {\n",
       "        vertical-align: top;\n",
       "    }\n",
       "\n",
       "    .dataframe thead th {\n",
       "        text-align: right;\n",
       "    }\n",
       "</style>\n",
       "<table border=\"1\" class=\"dataframe\">\n",
       "  <thead>\n",
       "    <tr style=\"text-align: right;\">\n",
       "      <th></th>\n",
       "      <th>LOCATION</th>\n",
       "      <th>INDICATOR</th>\n",
       "      <th>SUBJECT</th>\n",
       "      <th>MEASURE</th>\n",
       "      <th>FREQUENCY</th>\n",
       "      <th>TIME</th>\n",
       "      <th>Value</th>\n",
       "      <th>Flag Codes</th>\n",
       "    </tr>\n",
       "  </thead>\n",
       "  <tbody>\n",
       "    <tr>\n",
       "      <th>0</th>\n",
       "      <td>AUS</td>\n",
       "      <td>HEALTHEXP</td>\n",
       "      <td>TOT</td>\n",
       "      <td>PC_GDP</td>\n",
       "      <td>A</td>\n",
       "      <td>1971</td>\n",
       "      <td>4.540</td>\n",
       "      <td>NaN</td>\n",
       "    </tr>\n",
       "    <tr>\n",
       "      <th>1</th>\n",
       "      <td>AUS</td>\n",
       "      <td>HEALTHEXP</td>\n",
       "      <td>TOT</td>\n",
       "      <td>PC_GDP</td>\n",
       "      <td>A</td>\n",
       "      <td>1972</td>\n",
       "      <td>4.539</td>\n",
       "      <td>NaN</td>\n",
       "    </tr>\n",
       "    <tr>\n",
       "      <th>2</th>\n",
       "      <td>AUS</td>\n",
       "      <td>HEALTHEXP</td>\n",
       "      <td>TOT</td>\n",
       "      <td>PC_GDP</td>\n",
       "      <td>A</td>\n",
       "      <td>1973</td>\n",
       "      <td>4.504</td>\n",
       "      <td>NaN</td>\n",
       "    </tr>\n",
       "    <tr>\n",
       "      <th>3</th>\n",
       "      <td>AUS</td>\n",
       "      <td>HEALTHEXP</td>\n",
       "      <td>TOT</td>\n",
       "      <td>PC_GDP</td>\n",
       "      <td>A</td>\n",
       "      <td>1974</td>\n",
       "      <td>5.104</td>\n",
       "      <td>NaN</td>\n",
       "    </tr>\n",
       "    <tr>\n",
       "      <th>4</th>\n",
       "      <td>AUS</td>\n",
       "      <td>HEALTHEXP</td>\n",
       "      <td>TOT</td>\n",
       "      <td>PC_GDP</td>\n",
       "      <td>A</td>\n",
       "      <td>1975</td>\n",
       "      <td>5.750</td>\n",
       "      <td>NaN</td>\n",
       "    </tr>\n",
       "  </tbody>\n",
       "</table>\n",
       "</div>"
      ],
      "text/plain": [
       "  LOCATION  INDICATOR SUBJECT MEASURE FREQUENCY  TIME  Value Flag Codes\n",
       "0      AUS  HEALTHEXP     TOT  PC_GDP         A  1971  4.540        NaN\n",
       "1      AUS  HEALTHEXP     TOT  PC_GDP         A  1972  4.539        NaN\n",
       "2      AUS  HEALTHEXP     TOT  PC_GDP         A  1973  4.504        NaN\n",
       "3      AUS  HEALTHEXP     TOT  PC_GDP         A  1974  5.104        NaN\n",
       "4      AUS  HEALTHEXP     TOT  PC_GDP         A  1975  5.750        NaN"
      ]
     },
     "execution_count": 12,
     "metadata": {},
     "output_type": "execute_result"
    }
   ],
   "source": [
    "file = r'C:/Users/Juan.Paredes/Unilever/Data & Analytics CL DEV - General/Nacho/1. Visual Studio Scripts/CURSO DOJO/1.-Curso-Coding-Dojo/11. Ejercicio Visualizacon Datos/Health spending_ocde.csv'\n",
    "df = pd.read_csv(file)\n",
    "df.head()"
   ]
  },
  {
   "cell_type": "code",
   "execution_count": 55,
   "metadata": {},
   "outputs": [
    {
     "data": {
      "text/plain": [
       "array(['AUS', 'AUT', 'BEL', 'CAN', 'CZE', 'DNK', 'FIN', 'FRA', 'DEU',\n",
       "       'GRC', 'HUN', 'ISL', 'IRL', 'ITA', 'JPN', 'KOR', 'LUX', 'MEX',\n",
       "       'NLD', 'NZL', 'NOR', 'POL', 'PRT', 'SVK', 'ESP', 'SWE', 'CHE',\n",
       "       'TUR', 'GBR', 'USA', 'BRA', 'CHL', 'CHN', 'EST', 'IND', 'ISR',\n",
       "       'SVN', 'ZAF', 'COL', 'LVA', 'LTU', 'CRI', 'ALB', 'BGR', 'HRV',\n",
       "       'CYP', 'MKD', 'MLT', 'ROU', 'SRB', 'MNE', 'ARG', 'PER'],\n",
       "      dtype=object)"
      ]
     },
     "execution_count": 55,
     "metadata": {},
     "output_type": "execute_result"
    }
   ],
   "source": [
    "df['LOCATION'].unique()"
   ]
  },
  {
   "cell_type": "code",
   "execution_count": 37,
   "metadata": {},
   "outputs": [
    {
     "data": {
      "text/html": [
       "<div>\n",
       "<style scoped>\n",
       "    .dataframe tbody tr th:only-of-type {\n",
       "        vertical-align: middle;\n",
       "    }\n",
       "\n",
       "    .dataframe tbody tr th {\n",
       "        vertical-align: top;\n",
       "    }\n",
       "\n",
       "    .dataframe thead th {\n",
       "        text-align: right;\n",
       "    }\n",
       "</style>\n",
       "<table border=\"1\" class=\"dataframe\">\n",
       "  <thead>\n",
       "    <tr style=\"text-align: right;\">\n",
       "      <th>MEASURE</th>\n",
       "      <th>TIME</th>\n",
       "      <th>PC_GDP</th>\n",
       "      <th>PC_HEALTHXP</th>\n",
       "      <th>USD_CAP</th>\n",
       "    </tr>\n",
       "  </thead>\n",
       "  <tbody>\n",
       "    <tr>\n",
       "      <th>0</th>\n",
       "      <td>1970</td>\n",
       "      <td>2.813650</td>\n",
       "      <td>49.475079</td>\n",
       "      <td>105.551950</td>\n",
       "    </tr>\n",
       "    <tr>\n",
       "      <th>1</th>\n",
       "      <td>1971</td>\n",
       "      <td>3.072213</td>\n",
       "      <td>47.251675</td>\n",
       "      <td>127.708820</td>\n",
       "    </tr>\n",
       "    <tr>\n",
       "      <th>2</th>\n",
       "      <td>1972</td>\n",
       "      <td>3.160984</td>\n",
       "      <td>47.421000</td>\n",
       "      <td>144.821547</td>\n",
       "    </tr>\n",
       "    <tr>\n",
       "      <th>3</th>\n",
       "      <td>1973</td>\n",
       "      <td>3.145328</td>\n",
       "      <td>47.332714</td>\n",
       "      <td>160.910703</td>\n",
       "    </tr>\n",
       "    <tr>\n",
       "      <th>4</th>\n",
       "      <td>1974</td>\n",
       "      <td>3.327187</td>\n",
       "      <td>47.277667</td>\n",
       "      <td>188.345250</td>\n",
       "    </tr>\n",
       "  </tbody>\n",
       "</table>\n",
       "</div>"
      ],
      "text/plain": [
       "MEASURE  TIME    PC_GDP  PC_HEALTHXP     USD_CAP\n",
       "0        1970  2.813650    49.475079  105.551950\n",
       "1        1971  3.072213    47.251675  127.708820\n",
       "2        1972  3.160984    47.421000  144.821547\n",
       "3        1973  3.145328    47.332714  160.910703\n",
       "4        1974  3.327187    47.277667  188.345250"
      ]
     },
     "execution_count": 37,
     "metadata": {},
     "output_type": "execute_result"
    }
   ],
   "source": [
    "df_group = df.groupby(['MEASURE','TIME'])['Value'].mean().reset_index()\n",
    "\n",
    "df_group = df_group.pivot(index='TIME', columns='MEASURE', values='Value').reset_index()\n",
    "df_group.head()"
   ]
  },
  {
   "cell_type": "code",
   "execution_count": 42,
   "metadata": {},
   "outputs": [
    {
     "data": {
      "image/png": "[encoded data removed]",
      "text/plain": [
       "<Figure size 576x576 with 2 Axes>"
      ]
     },
     "metadata": {},
     "output_type": "display_data"
    }
   ],
   "source": [
    "\n",
    "\n",
    "date = df_group['TIME']\n",
    "PC_GDP = df_group['PC_GDP']\n",
    "PC_HEALTHXP = df_group['PC_HEALTHXP']\n",
    "USD_CAP = df_group['USD_CAP']\n",
    "\n",
    "COLOR_PC_GDP = \"#69b3a2\"\n",
    "COLOR_PC_HEALTHXP = \"#3399e6\"\n",
    "COLOR_USD_CAP = \"#3390e6\"\n",
    "\n",
    "\n",
    "fig, ax1 = plt.subplots(figsize=(8, 8))\n",
    "ax2 = ax1.twinx()\n",
    "plt.style.use('fivethirtyeight')\n",
    "\n",
    "ax1.plot(date, PC_GDP, color=COLOR_PC_GDP, lw=3)\n",
    "ax2.plot(date, PC_HEALTHXP, color=COLOR_PC_HEALTHXP, lw=4)\n",
    "\n",
    "\n",
    "\n",
    "ax1.set_xlabel(\"Año\")\n",
    "ax1.set_ylabel(\"PC_GDP\", color=COLOR_PC_GDP, fontsize=14)\n",
    "ax1.tick_params(axis=\"y\", labelcolor=COLOR_PC_GDP)\n",
    "\n",
    "ax2.set_ylabel(\"COLOR_PC_HEALTHXP\", color=COLOR_PC_HEALTHXP, fontsize=14)\n",
    "ax2.tick_params(axis=\"y\", labelcolor=COLOR_PC_HEALTHXP)\n",
    "\n",
    "fig.suptitle(\"Health Spending\", fontsize=20)\n",
    "fig.autofmt_xdate()\n",
    "\n",
    "date = df_group['TIME']\n",
    "PC_GDP = df_group['PC_GDP']\n",
    "PC_HEALTHXP = df_group['PC_HEALTHXP']\n",
    "USD_CAP = df_group['USD_CAP']\n"
   ]
  },
  {
   "cell_type": "code",
   "execution_count": 77,
   "metadata": {},
   "outputs": [
    {
     "ename": "ValueError",
     "evalue": "x and y must have same first dimension, but have shapes (17732,) and (206,)",
     "output_type": "error",
     "traceback": [
      "\u001b[1;31m---------------------------------------------------------------------------\u001b[0m",
      "\u001b[1;31mValueError\u001b[0m                                Traceback (most recent call last)",
      "\u001b[1;32mc:\\Users\\Juan.Paredes\\Unilever\\Data & Analytics CL DEV - General\\Nacho\\1. Visual Studio Scripts\\CURSO DOJO\\1.-Curso-Coding-Dojo\\11. Ejercicio Visualizacon Datos\\visualization.ipynb Celda 8\u001b[0m in \u001b[0;36m<cell line: 9>\u001b[1;34m()\u001b[0m\n\u001b[0;32m      <a href='vscode-notebook-cell:/c%3A/Users/Juan.Paredes/Unilever/Data%20%26%20Analytics%20CL%20DEV%20-%20General/Nacho/1.%20Visual%20Studio%20Scripts/CURSO%20DOJO/1.-Curso-Coding-Dojo/11.%20Ejercicio%20Visualizacon%20Datos/visualization.ipynb#ch0000015?line=6'>7</a>\u001b[0m PC_GDP_Chile \u001b[39m=\u001b[39m df[\u001b[39m'\u001b[39m\u001b[39mValue\u001b[39m\u001b[39m'\u001b[39m]\u001b[39m.\u001b[39mloc[(df[\u001b[39m'\u001b[39m\u001b[39mLOCATION\u001b[39m\u001b[39m'\u001b[39m] \u001b[39m==\u001b[39m \u001b[39m'\u001b[39m\u001b[39mUSA\u001b[39m\u001b[39m'\u001b[39m) \u001b[39m&\u001b[39m (df[\u001b[39m'\u001b[39m\u001b[39mMEASURE\u001b[39m\u001b[39m'\u001b[39m] \u001b[39m==\u001b[39m \u001b[39m'\u001b[39m\u001b[39mPC_GDP\u001b[39m\u001b[39m'\u001b[39m)]\u001b[39m*\u001b[39m\u001b[39m0.8\u001b[39m\n\u001b[0;32m      <a href='vscode-notebook-cell:/c%3A/Users/Juan.Paredes/Unilever/Data%20%26%20Analytics%20CL%20DEV%20-%20General/Nacho/1.%20Visual%20Studio%20Scripts/CURSO%20DOJO/1.-Curso-Coding-Dojo/11.%20Ejercicio%20Visualizacon%20Datos/visualization.ipynb#ch0000015?line=8'>9</a>\u001b[0m \u001b[39mwith\u001b[39;00m plt\u001b[39m.\u001b[39mstyle\u001b[39m.\u001b[39mcontext(\u001b[39m'\u001b[39m\u001b[39mSolarize_Light2\u001b[39m\u001b[39m'\u001b[39m):\n\u001b[1;32m---> <a href='vscode-notebook-cell:/c%3A/Users/Juan.Paredes/Unilever/Data%20%26%20Analytics%20CL%20DEV%20-%20General/Nacho/1.%20Visual%20Studio%20Scripts/CURSO%20DOJO/1.-Curso-Coding-Dojo/11.%20Ejercicio%20Visualizacon%20Datos/visualization.ipynb#ch0000015?line=9'>10</a>\u001b[0m     plt\u001b[39m.\u001b[39;49mplot(x, PC_GDP_USA)\n\u001b[0;32m     <a href='vscode-notebook-cell:/c%3A/Users/Juan.Paredes/Unilever/Data%20%26%20Analytics%20CL%20DEV%20-%20General/Nacho/1.%20Visual%20Studio%20Scripts/CURSO%20DOJO/1.-Curso-Coding-Dojo/11.%20Ejercicio%20Visualizacon%20Datos/visualization.ipynb#ch0000015?line=10'>11</a>\u001b[0m     plt\u001b[39m.\u001b[39mplot(x, PC_GDP_Chile)\n\u001b[0;32m     <a href='vscode-notebook-cell:/c%3A/Users/Juan.Paredes/Unilever/Data%20%26%20Analytics%20CL%20DEV%20-%20General/Nacho/1.%20Visual%20Studio%20Scripts/CURSO%20DOJO/1.-Curso-Coding-Dojo/11.%20Ejercicio%20Visualizacon%20Datos/visualization.ipynb#ch0000015?line=13'>14</a>\u001b[0m     \u001b[39m# Number of accent colors in the color scheme\u001b[39;00m\n",
      "File \u001b[1;32mc:\\Users\\Juan.Paredes\\AppData\\Local\\Programs\\Python\\Python39\\lib\\site-packages\\matplotlib\\pyplot.py:2757\u001b[0m, in \u001b[0;36mplot\u001b[1;34m(scalex, scaley, data, *args, **kwargs)\u001b[0m\n\u001b[0;32m   2755\u001b[0m \u001b[39m@_copy_docstring_and_deprecators\u001b[39m(Axes\u001b[39m.\u001b[39mplot)\n\u001b[0;32m   2756\u001b[0m \u001b[39mdef\u001b[39;00m \u001b[39mplot\u001b[39m(\u001b[39m*\u001b[39margs, scalex\u001b[39m=\u001b[39m\u001b[39mTrue\u001b[39;00m, scaley\u001b[39m=\u001b[39m\u001b[39mTrue\u001b[39;00m, data\u001b[39m=\u001b[39m\u001b[39mNone\u001b[39;00m, \u001b[39m*\u001b[39m\u001b[39m*\u001b[39mkwargs):\n\u001b[1;32m-> 2757\u001b[0m     \u001b[39mreturn\u001b[39;00m gca()\u001b[39m.\u001b[39mplot(\n\u001b[0;32m   2758\u001b[0m         \u001b[39m*\u001b[39margs, scalex\u001b[39m=\u001b[39mscalex, scaley\u001b[39m=\u001b[39mscaley,\n\u001b[0;32m   2759\u001b[0m         \u001b[39m*\u001b[39m\u001b[39m*\u001b[39m({\u001b[39m\"\u001b[39m\u001b[39mdata\u001b[39m\u001b[39m\"\u001b[39m: data} \u001b[39mif\u001b[39;00m data \u001b[39mis\u001b[39;00m \u001b[39mnot\u001b[39;00m \u001b[39mNone\u001b[39;00m \u001b[39melse\u001b[39;00m {}), \u001b[39m*\u001b[39m\u001b[39m*\u001b[39mkwargs)\n",
      "File \u001b[1;32mc:\\Users\\Juan.Paredes\\AppData\\Local\\Programs\\Python\\Python39\\lib\\site-packages\\matplotlib\\axes\\_axes.py:1632\u001b[0m, in \u001b[0;36mAxes.plot\u001b[1;34m(self, scalex, scaley, data, *args, **kwargs)\u001b[0m\n\u001b[0;32m   1390\u001b[0m \u001b[39m\"\"\"\u001b[39;00m\n\u001b[0;32m   1391\u001b[0m \u001b[39mPlot y versus x as lines and/or markers.\u001b[39;00m\n\u001b[0;32m   1392\u001b[0m \n\u001b[1;32m   (...)\u001b[0m\n\u001b[0;32m   1629\u001b[0m \u001b[39m(``'green'``) or hex strings (``'#008000'``).\u001b[39;00m\n\u001b[0;32m   1630\u001b[0m \u001b[39m\"\"\"\u001b[39;00m\n\u001b[0;32m   1631\u001b[0m kwargs \u001b[39m=\u001b[39m cbook\u001b[39m.\u001b[39mnormalize_kwargs(kwargs, mlines\u001b[39m.\u001b[39mLine2D)\n\u001b[1;32m-> 1632\u001b[0m lines \u001b[39m=\u001b[39m [\u001b[39m*\u001b[39m\u001b[39mself\u001b[39m\u001b[39m.\u001b[39m_get_lines(\u001b[39m*\u001b[39margs, data\u001b[39m=\u001b[39mdata, \u001b[39m*\u001b[39m\u001b[39m*\u001b[39mkwargs)]\n\u001b[0;32m   1633\u001b[0m \u001b[39mfor\u001b[39;00m line \u001b[39min\u001b[39;00m lines:\n\u001b[0;32m   1634\u001b[0m     \u001b[39mself\u001b[39m\u001b[39m.\u001b[39madd_line(line)\n",
      "File \u001b[1;32mc:\\Users\\Juan.Paredes\\AppData\\Local\\Programs\\Python\\Python39\\lib\\site-packages\\matplotlib\\axes\\_base.py:312\u001b[0m, in \u001b[0;36m_process_plot_var_args.__call__\u001b[1;34m(self, data, *args, **kwargs)\u001b[0m\n\u001b[0;32m    310\u001b[0m     this \u001b[39m+\u001b[39m\u001b[39m=\u001b[39m args[\u001b[39m0\u001b[39m],\n\u001b[0;32m    311\u001b[0m     args \u001b[39m=\u001b[39m args[\u001b[39m1\u001b[39m:]\n\u001b[1;32m--> 312\u001b[0m \u001b[39myield from\u001b[39;00m \u001b[39mself\u001b[39;49m\u001b[39m.\u001b[39;49m_plot_args(this, kwargs)\n",
      "File \u001b[1;32mc:\\Users\\Juan.Paredes\\AppData\\Local\\Programs\\Python\\Python39\\lib\\site-packages\\matplotlib\\axes\\_base.py:498\u001b[0m, in \u001b[0;36m_process_plot_var_args._plot_args\u001b[1;34m(self, tup, kwargs, return_kwargs)\u001b[0m\n\u001b[0;32m    495\u001b[0m     \u001b[39mself\u001b[39m\u001b[39m.\u001b[39maxes\u001b[39m.\u001b[39myaxis\u001b[39m.\u001b[39mupdate_units(y)\n\u001b[0;32m    497\u001b[0m \u001b[39mif\u001b[39;00m x\u001b[39m.\u001b[39mshape[\u001b[39m0\u001b[39m] \u001b[39m!=\u001b[39m y\u001b[39m.\u001b[39mshape[\u001b[39m0\u001b[39m]:\n\u001b[1;32m--> 498\u001b[0m     \u001b[39mraise\u001b[39;00m \u001b[39mValueError\u001b[39;00m(\u001b[39mf\u001b[39m\u001b[39m\"\u001b[39m\u001b[39mx and y must have same first dimension, but \u001b[39m\u001b[39m\"\u001b[39m\n\u001b[0;32m    499\u001b[0m                      \u001b[39mf\u001b[39m\u001b[39m\"\u001b[39m\u001b[39mhave shapes \u001b[39m\u001b[39m{\u001b[39;00mx\u001b[39m.\u001b[39mshape\u001b[39m}\u001b[39;00m\u001b[39m and \u001b[39m\u001b[39m{\u001b[39;00my\u001b[39m.\u001b[39mshape\u001b[39m}\u001b[39;00m\u001b[39m\"\u001b[39m)\n\u001b[0;32m    500\u001b[0m \u001b[39mif\u001b[39;00m x\u001b[39m.\u001b[39mndim \u001b[39m>\u001b[39m \u001b[39m2\u001b[39m \u001b[39mor\u001b[39;00m y\u001b[39m.\u001b[39mndim \u001b[39m>\u001b[39m \u001b[39m2\u001b[39m:\n\u001b[0;32m    501\u001b[0m     \u001b[39mraise\u001b[39;00m \u001b[39mValueError\u001b[39;00m(\u001b[39mf\u001b[39m\u001b[39m\"\u001b[39m\u001b[39mx and y can be no greater than 2D, but have \u001b[39m\u001b[39m\"\u001b[39m\n\u001b[0;32m    502\u001b[0m                      \u001b[39mf\u001b[39m\u001b[39m\"\u001b[39m\u001b[39mshapes \u001b[39m\u001b[39m{\u001b[39;00mx\u001b[39m.\u001b[39mshape\u001b[39m}\u001b[39;00m\u001b[39m and \u001b[39m\u001b[39m{\u001b[39;00my\u001b[39m.\u001b[39mshape\u001b[39m}\u001b[39;00m\u001b[39m\"\u001b[39m)\n",
      "\u001b[1;31mValueError\u001b[0m: x and y must have same first dimension, but have shapes (17732,) and (206,)"
     ]
    },
    {
     "data": {
      "image/png": "[encoded data removed]",
      "text/plain": [
       "<Figure size 1080x1080 with 2 Axes>"
      ]
     },
     "metadata": {},
     "output_type": "display_data"
    }
   ],
   "source": [
    "fig, ax1 = plt.subplots(figsize=(15, 15))\n",
    "ax2 = ax1.twinx()\n",
    "\n",
    "\n",
    "x = df['TIME']\n",
    "PC_GDP_USA = df['Value'].loc[(df['LOCATION'] == 'USA') & (df['MEASURE'] == 'PC_GDP')]\n",
    "PC_GDP_Chile = df['Value'].loc[(df['LOCATION'] == 'USA') & (df['MEASURE'] == 'PC_GDP')]*0.8\n",
    "\n",
    "with plt.style.context('Solarize_Light2'):\n",
    "    plt.plot(x, PC_GDP_USA)\n",
    "    plt.plot(x, PC_GDP_Chile)\n",
    "\n",
    "\n",
    "    # Number of accent colors in the color scheme\n",
    "    plt.title('Health Spending', fontsize=20)\n",
    "    plt.xlabel('Year', fontsize=14)\n",
    "    plt.ylabel('Value', fontsize=14)\n",
    "\n",
    "plt.show()"
   ]
  },
  {
   "cell_type": "code",
   "execution_count": 69,
   "metadata": {},
   "outputs": [
    {
     "data": {
      "text/plain": [
       "2392     7.035\n",
       "2393     7.151\n",
       "2394     7.266\n",
       "2395     7.333\n",
       "2396     6.901\n",
       "         ...  \n",
       "15321    3.614\n",
       "15322    3.634\n",
       "15323    3.677\n",
       "15324    3.399\n",
       "15325    3.220\n",
       "Name: Value, Length: 88, dtype: float64"
      ]
     },
     "execution_count": 69,
     "metadata": {},
     "output_type": "execute_result"
    }
   ],
   "source": [
    "PC_GDP_Chile = df['Value'].loc[(df['LOCATION'] == 'CHL') & (df['MEASURE'] == 'PC_GDP')]\n",
    "PC_GDP_Chile"
   ]
  },
  {
   "cell_type": "markdown",
   "metadata": {},
   "source": [
    "## 2. Analisis Data"
   ]
  },
  {
   "cell_type": "code",
   "execution_count": 7,
   "metadata": {},
   "outputs": [
    {
     "name": "stdout",
     "output_type": "stream",
     "text": [
      "<class 'pandas.core.frame.DataFrame'>\n",
      "RangeIndex: 17732 entries, 0 to 17731\n",
      "Data columns (total 8 columns):\n",
      " #   Column      Non-Null Count  Dtype  \n",
      "---  ------      --------------  -----  \n",
      " 0   LOCATION    17732 non-null  object \n",
      " 1   INDICATOR   17732 non-null  object \n",
      " 2   SUBJECT     17732 non-null  object \n",
      " 3   MEASURE     17732 non-null  object \n",
      " 4   FREQUENCY   17732 non-null  object \n",
      " 5   TIME        17732 non-null  int64  \n",
      " 6   Value       17732 non-null  float64\n",
      " 7   Flag Codes  2223 non-null   object \n",
      "dtypes: float64(1), int64(1), object(6)\n",
      "memory usage: 1.1+ MB\n"
     ]
    }
   ],
   "source": [
    "df.info()"
   ]
  },
  {
   "cell_type": "code",
   "execution_count": 10,
   "metadata": {},
   "outputs": [
    {
     "data": {
      "text/html": [
       "<div>\n",
       "<style scoped>\n",
       "    .dataframe tbody tr th:only-of-type {\n",
       "        vertical-align: middle;\n",
       "    }\n",
       "\n",
       "    .dataframe tbody tr th {\n",
       "        vertical-align: top;\n",
       "    }\n",
       "\n",
       "    .dataframe thead th {\n",
       "        text-align: right;\n",
       "    }\n",
       "</style>\n",
       "<table border=\"1\" class=\"dataframe\">\n",
       "  <thead>\n",
       "    <tr style=\"text-align: right;\">\n",
       "      <th></th>\n",
       "      <th>TIME</th>\n",
       "      <th>Value</th>\n",
       "    </tr>\n",
       "  </thead>\n",
       "  <tbody>\n",
       "    <tr>\n",
       "      <th>count</th>\n",
       "      <td>17732.000000</td>\n",
       "      <td>17732.000000</td>\n",
       "    </tr>\n",
       "    <tr>\n",
       "      <th>mean</th>\n",
       "      <td>2001.312881</td>\n",
       "      <td>406.913404</td>\n",
       "    </tr>\n",
       "    <tr>\n",
       "      <th>std</th>\n",
       "      <td>13.704854</td>\n",
       "      <td>938.732466</td>\n",
       "    </tr>\n",
       "    <tr>\n",
       "      <th>min</th>\n",
       "      <td>1970.000000</td>\n",
       "      <td>0.094000</td>\n",
       "    </tr>\n",
       "    <tr>\n",
       "      <th>25%</th>\n",
       "      <td>1992.000000</td>\n",
       "      <td>5.311750</td>\n",
       "    </tr>\n",
       "    <tr>\n",
       "      <th>50%</th>\n",
       "      <td>2004.000000</td>\n",
       "      <td>28.282000</td>\n",
       "    </tr>\n",
       "    <tr>\n",
       "      <th>75%</th>\n",
       "      <td>2013.000000</td>\n",
       "      <td>327.243250</td>\n",
       "    </tr>\n",
       "    <tr>\n",
       "      <th>max</th>\n",
       "      <td>2021.000000</td>\n",
       "      <td>12318.099000</td>\n",
       "    </tr>\n",
       "  </tbody>\n",
       "</table>\n",
       "</div>"
      ],
      "text/plain": [
       "               TIME         Value\n",
       "count  17732.000000  17732.000000\n",
       "mean    2001.312881    406.913404\n",
       "std       13.704854    938.732466\n",
       "min     1970.000000      0.094000\n",
       "25%     1992.000000      5.311750\n",
       "50%     2004.000000     28.282000\n",
       "75%     2013.000000    327.243250\n",
       "max     2021.000000  12318.099000"
      ]
     },
     "execution_count": 10,
     "metadata": {},
     "output_type": "execute_result"
    }
   ],
   "source": [
    "df.describe()"
   ]
  },
  {
   "cell_type": "code",
   "execution_count": 9,
   "metadata": {},
   "outputs": [
    {
     "data": {
      "text/plain": [
       "array([[<AxesSubplot:title={'center':'TIME'}>,\n",
       "        <AxesSubplot:title={'center':'Value'}>]], dtype=object)"
      ]
     },
     "execution_count": 9,
     "metadata": {},
     "output_type": "execute_result"
    },
    {
     "data": {
      "image/png": "[encoded data removed]",
      "text/plain": [
       "<Figure size 432x288 with 2 Axes>"
      ]
     },
     "metadata": {
      "needs_background": "light"
     },
     "output_type": "display_data"
    }
   ],
   "source": [
    "df.hist()"
   ]
  },
  {
   "cell_type": "code",
   "execution_count": null,
   "metadata": {},
   "outputs": [],
   "source": []
  }
 ],
 "metadata": {
  "kernelspec": {
   "display_name": "Python 3.9.12 64-bit",
   "language": "python",
   "name": "python3"
  },
  "language_info": {
   "codemirror_mode": {
    "name": "ipython",
    "version": 3
   },
   "file_extension": ".py",
   "mimetype": "text/x-python",
   "name": "python",
   "nbconvert_exporter": "python",
   "pygments_lexer": "ipython3",
   "version": "3.9.12"
  },
  "orig_nbformat": 4,
  "vscode": {
   "interpreter": {
    "hash": "c22d57933b3c4acc04110f239f1d62a3d6b47f12c8a0d3e4ec2a73cef515b291"
   }
  }
 },
 "nbformat": 4,
 "nbformat_minor": 2
}
